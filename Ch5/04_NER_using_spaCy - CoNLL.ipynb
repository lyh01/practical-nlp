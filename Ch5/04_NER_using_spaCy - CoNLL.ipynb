{
 "cells": [
  {
   "cell_type": "markdown",
   "metadata": {},
   "source": [
    "# Training and Evaluating an NER model with spaCy on the CoNLL dataset\n",
    "\n",
    "In this notebook, we will take a look at using spaCy commandline to train and evaluate a NER model. We will also compare it with the pretrained NER model in spacy. \n",
    "\n",
    "Note: we will create multiple folders during this experiment:\n",
    "spacyNER_data "
   ]
  },
  {
   "cell_type": "markdown",
   "metadata": {},
   "source": [
    "## Step 1: Converting data to json structures so it can be used by Spacy"
   ]
  },
  {
   "cell_type": "code",
   "execution_count": 2,
   "metadata": {},
   "outputs": [
    {
     "output_type": "stream",
     "name": "stdout",
     "text": [
      "mkdir: cannot create directory ‘spacyNER_data’: File exists\n",
      "\u001b[38;5;4mℹ Auto-detected token-per-line NER format\u001b[0m\n",
      "\u001b[38;5;4mℹ Grouping every 1 sentences into a document.\u001b[0m\n",
      "\u001b[38;5;3m⚠ To generate better training data, you may want to group sentences\n",
      "into documents with `-n 10`.\u001b[0m\n",
      "\u001b[38;5;2m✔ Generated output file (14987 documents):\n",
      "spacyNER_data/train.spacy\u001b[0m\n",
      "\u001b[38;5;4mℹ Auto-detected token-per-line NER format\u001b[0m\n",
      "\u001b[38;5;4mℹ Grouping every 1 sentences into a document.\u001b[0m\n",
      "\u001b[38;5;3m⚠ To generate better training data, you may want to group sentences\n",
      "into documents with `-n 10`.\u001b[0m\n",
      "\u001b[38;5;2m✔ Generated output file (3684 documents): spacyNER_data/test.spacy\u001b[0m\n",
      "\u001b[38;5;4mℹ Auto-detected token-per-line NER format\u001b[0m\n",
      "\u001b[38;5;4mℹ Grouping every 1 sentences into a document.\u001b[0m\n",
      "\u001b[38;5;3m⚠ To generate better training data, you may want to group sentences\n",
      "into documents with `-n 10`.\u001b[0m\n",
      "\u001b[38;5;2m✔ Generated output file (3466 documents): spacyNER_data/valid.spacy\u001b[0m\n"
     ]
    }
   ],
   "source": [
    "#Read the CONLL data from conll2003 folder, and store the formatted data into a folder spacyNER_data\n",
    "!mkdir spacyNER_data\n",
    "#the above two lines create folders if they don't exist. If they do, the output shows a message that it\n",
    "#already exists and cannot be created again\n",
    "!python3 -m spacy convert \"Data/conll2003/en/train.txt\" spacyNER_data -c ner\n",
    "!python3 -m spacy convert \"Data/conll2003/en/test.txt\" spacyNER_data -c ner\n",
    "!python3 -m spacy convert \"Data/conll2003/en/valid.txt\" spacyNER_data -c ner"
   ]
  },
  {
   "cell_type": "markdown",
   "metadata": {},
   "source": [
    "#### For example, the data before and after running spacy's convert program looks as follows."
   ]
  },
  {
   "cell_type": "code",
   "execution_count": 3,
   "metadata": {
    "scrolled": true
   },
   "outputs": [
    {
     "output_type": "stream",
     "name": "stdout",
     "text": [
      "BEFORE : (Data/conll2003/en/train.txt)\n",
      "EU NNP B-NP B-ORG\n",
      "rejects VBZ B-VP O\n",
      "German JJ B-NP B-MISC\n",
      "call NN I-NP O\n",
      "to TO B-VP O\n",
      "boycott VB I-VP O\n",
      "British JJ B-NP B-MISC\n",
      "lamb NN I-NP O\n",
      ". . O O\n",
      "\\nAFTER : (Data/conll2003/en/train.json)\n",
      "head: cannot open 'spacyNER_data/train.json' for reading: No such file or directory\n"
     ]
    }
   ],
   "source": [
    "!echo \"BEFORE : (Data/conll2003/en/train.txt)\"\n",
    "!head \"Data/conll2003/en/train.txt\" -n 11 | tail -n 9\n",
    "!echo \"\\nAFTER : (Data/conll2003/en/train.json)\"\n",
    "!head \"spacyNER_data/train.json\" -n 64 | tail -n 49"
   ]
  },
  {
   "cell_type": "markdown",
   "metadata": {},
   "source": [
    "## Training the NER model with Spacy (CLI)\n",
    "\n",
    "All the commandline options can be seen at: https://spacy.io/api/cli#train\n",
    "We are training using the train program in spacy, for English (en), and the results are stored in a folder \n",
    "called \"model\" (created while training). Our training file is in \"spacyNER_data/train.json\" and the validation file is at: \"spacyNER_data/valid.json\". \n",
    "\n",
    "-G stands for gpu option.\n",
    "-p stands for pipeline, and it should be followed by a comma separated set of options - in this case, a tagger and an NER are being trained simultaneously"
   ]
  },
  {
   "cell_type": "code",
   "execution_count": 4,
   "metadata": {},
   "outputs": [
    {
     "output_type": "stream",
     "name": "stdout",
     "text": [
      "Usage: python -m spacy train [OPTIONS] CONFIG_PATH\nTry 'python -m spacy train --help' for help.\n\nError: Invalid value for 'CONFIG_PATH': Path 'en' does not exist.\n"
     ]
    }
   ],
   "source": [
    "!python3 -m spacy train en model spacyNER_data/train.json spacyNER_data/valid.json -G -p tagger,ner"
   ]
  },
  {
   "cell_type": "markdown",
   "metadata": {},
   "source": [
    "Notice how the performance improves with each iteration!\n",
    "## Evaluating the model with test data set (`spacyNER_data/test.json`)"
   ]
  },
  {
   "cell_type": "markdown",
   "metadata": {},
   "source": [
    "### On Trained model (`model/model-best`)"
   ]
  },
  {
   "cell_type": "code",
   "execution_count": 4,
   "metadata": {},
   "outputs": [
    {
     "name": "stdout",
     "output_type": "stream",
     "text": [
      "\u001b[1m\n",
      "================================== Results ==================================\u001b[0m\n",
      "\n",
      "Time      3.53 s\n",
      "Words     46666 \n",
      "Words/s   13234 \n",
      "TOK       100.00\n",
      "POS       94.79 \n",
      "UAS       0.00  \n",
      "LAS       0.00  \n",
      "NER P     78.09 \n",
      "NER R     78.75 \n",
      "NER F     78.42 \n",
      "\n",
      "\u001b[38;5;2m✔ Generated 25 parses as HTML\u001b[0m\n",
      "result\n"
     ]
    }
   ],
   "source": [
    "#create a folder to store the output and visualizations. \n",
    "!mkdir result\n",
    "!python3 -m spacy evaluate model/model-best spacyNER_data/test.json -dp result\n",
    "# !python -m spacy evaluate model/model-final data/test.txt.json -dp result"
   ]
  },
  {
   "cell_type": "markdown",
   "metadata": {},
   "source": [
    "a Visualization of the entity tagged test data can be seen in result/entities.html folder. "
   ]
  },
  {
   "cell_type": "markdown",
   "metadata": {},
   "source": [
    "### On spacy's Pretrained NER model (`en`)"
   ]
  },
  {
   "cell_type": "code",
   "execution_count": 5,
   "metadata": {},
   "outputs": [
    {
     "name": "stdout",
     "output_type": "stream",
     "text": [
      "\u001b[1m\n",
      "================================== Results ==================================\u001b[0m\n",
      "\n",
      "Time      6.52 s\n",
      "Words     46666 \n",
      "Words/s   7160  \n",
      "TOK       100.00\n",
      "POS       86.84 \n",
      "UAS       0.00  \n",
      "LAS       0.00  \n",
      "NER P     7.97  \n",
      "NER R     10.68 \n",
      "NER F     9.12  \n",
      "\n",
      "\u001b[38;5;2m✔ Generated 25 parses as HTML\u001b[0m\n",
      "pretrained_result\n"
     ]
    }
   ],
   "source": [
    "!mkdir pretrained_result\n",
    "!python3 -m spacy evaluate en spacyNER_data/test.json -dp pretrained_result"
   ]
  },
  {
   "cell_type": "markdown",
   "metadata": {},
   "source": [
    "a Visualization of the entity tagged test data can be seen in pretrained_result/entities.html folder. "
   ]
  }
 ],
 "metadata": {
  "kernelspec": {
   "name": "python3",
   "display_name": "Python 3.9.2 64-bit",
   "metadata": {
    "interpreter": {
     "hash": "f9f85f796d01129d0dd105a088854619f454435301f6ffec2fea96ecbd9be4ac"
    }
   }
  },
  "language_info": {
   "codemirror_mode": {
    "name": "ipython",
    "version": 2
   },
   "file_extension": ".py",
   "mimetype": "text/x-python",
   "name": "python",
   "nbconvert_exporter": "python",
   "pygments_lexer": "ipython2",
   "version": "3.9.2-final"
  }
 },
 "nbformat": 4,
 "nbformat_minor": 2
}