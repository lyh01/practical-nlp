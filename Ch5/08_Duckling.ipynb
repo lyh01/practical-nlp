{
 "cells": [
  {
   "cell_type": "markdown",
   "metadata": {
    "colab_type": "text",
    "id": "9MiGmfrbNo9P"
   },
   "source": [
    "In this notebook we demonstrate Temporal IE using [duckling](https://github.com/FraBle/python-duckling), which is a python wrapper for wit.ai's [Duckling](https://github.com/facebookarchive/duckling_old) Clojure library."
   ]
  },
  {
   "cell_type": "code",
   "execution_count": 1,
   "metadata": {
    "colab": {
     "base_uri": "https://localhost:8080/",
     "height": 90
    },
    "colab_type": "code",
    "id": "kt0BWbCFMLP0",
    "outputId": "a0669798-63d5-4871-e539-db70a3cac257"
   },
   "outputs": [
    {
     "name": "stdout",
     "output_type": "stream",
     "text": [
      "Requirement already satisfied: JPype1==0.7.4 in /usr/local/lib/python3.6/dist-packages (0.7.4)\n",
      "\u001b[33mWARNING: You are using pip version 19.1.1, however version 20.1.1 is available.\n",
      "You should consider upgrading via the 'pip install --upgrade pip' command.\u001b[0m\n",
      "Requirement already satisfied: duckling==1.8.0 in /usr/local/lib/python3.6/dist-packages (1.8.0)\n",
      "Requirement already satisfied: JPype1 in /usr/local/lib/python3.6/dist-packages (from duckling==1.8.0) (0.7.4)\n",
      "Requirement already satisfied: six in /usr/lib/python3/dist-packages (from duckling==1.8.0) (1.11.0)\n",
      "Requirement already satisfied: python-dateutil in /usr/local/lib/python3.6/dist-packages (from duckling==1.8.0) (2.7.4)\n",
      "\u001b[33mWARNING: You are using pip version 19.1.1, however version 20.1.1 is available.\n",
      "You should consider upgrading via the 'pip install --upgrade pip' command.\u001b[0m\n"
     ]
    }
   ],
   "source": [
    "#installing the package\n",
    "!pip install JPype1==0.7.4 #This is required as duckling is not compatible with recent versions of JPype. \n",
    "!pip install duckling==1.8.0"
   ]
  },
  {
   "cell_type": "code",
   "execution_count": 3,
   "metadata": {
    "colab": {},
    "colab_type": "code",
    "id": "taFQDgC7NUOt"
   },
   "outputs": [],
   "source": [
    "from duckling import DucklingWrapper\n",
    "from pprint import pprint"
   ]
  },
  {
   "cell_type": "code",
   "execution_count": 1,
   "metadata": {},
   "outputs": [
    {
     "output_type": "stream",
     "name": "stdout",
     "text": [
      "3.8.5 (default, Jul 28 2020, 12:59:40) \n[GCC 9.3.0]   ['/home/hlaz001/practicalnlp/Ch5', '/root/.vscode-server/extensions/ms-toolsai.jupyter-2021.3.684299474/pythonFiles/vscode_datascience_helpers/../.does-not-exist', '/root/.vscode-server/extensions/ms-toolsai.jupyter-2021.3.684299474/pythonFiles', '/root/.vscode-server/extensions/ms-toolsai.jupyter-2021.3.684299474/pythonFiles/lib/python', '/usr/lib/python38.zip', '/usr/lib/python3.8', '/usr/lib/python3.8/lib-dynload', '', '/root/.local/lib/python3.8/site-packages', '/usr/local/lib/python3.8/dist-packages', '/home/hlaz001/practicalnlp/Ch5/neuralcoref/neuralcoref', '/usr/lib/python3/dist-packages', '/root/.local/lib/python3.8/site-packages/IPython/extensions', '/root/.ipython']\n/home/hlaz001/practicalnlp/Ch5  \n"
     ]
    }
   ],
   "source": [
    "import sys, os\n",
    "print(f\"{sys.version}   {sys.path}\")\n",
    "print(f\"{os.getcwd()}  \")"
   ]
  },
  {
   "cell_type": "code",
   "execution_count": 22,
   "metadata": {},
   "outputs": [
    {
     "output_type": "stream",
     "name": "stdout",
     "text": [
      "Requirement already satisfied: JPype1 in /usr/local/lib/python3.8/dist-packages (0.7.4)\n",
      "Requirement already satisfied: duckling in /usr/local/lib/python3.8/dist-packages (1.8.0)\n",
      "Collecting JPype1\n",
      "  Using cached JPype1-1.2.1-cp38-cp38-manylinux2010_x86_64.whl (457 kB)\n",
      "Requirement already satisfied: six in /root/.local/lib/python3.8/site-packages (from duckling) (1.15.0)\n",
      "Requirement already satisfied: python-dateutil in /root/.local/lib/python3.8/site-packages (from duckling) (2.8.1)\n",
      "Installing collected packages: JPype1\n",
      "  Attempting uninstall: JPype1\n",
      "    Found existing installation: JPype1 0.7.4\n",
      "    Uninstalling JPype1-0.7.4:\n",
      "      Successfully uninstalled JPype1-0.7.4\n",
      "Successfully installed JPype1-1.2.1\n",
      "\u001b[33mWARNING: Running pip as root will break packages and permissions. You should install packages reliably by using venv: https://pip.pypa.io/warnings/venv\u001b[0m\n"
     ]
    }
   ],
   "source": [
    "!python3.8 -m pip install JPype1 duckling JPype1==1.2.1\n"
   ]
  },
  {
   "cell_type": "code",
   "execution_count": 1,
   "metadata": {},
   "outputs": [],
   "source": [
    "import jpype"
   ]
  },
  {
   "cell_type": "code",
   "execution_count": 4,
   "metadata": {
    "colab": {},
    "colab_type": "code",
    "id": "xDDNmWFQbFQF"
   },
   "outputs": [
    {
     "output_type": "error",
     "ename": "TypeError",
     "evalue": "int() argument must be a string, a bytes-like object or a number, not 'java.lang.String'",
     "traceback": [
      "\u001b[0;31m---------------------------------------------------------------------------\u001b[0m",
      "\u001b[0;31mTypeError\u001b[0m                                 Traceback (most recent call last)",
      "\u001b[0;32m<ipython-input-4-8d72e31247ed>\u001b[0m in \u001b[0;36m<module>\u001b[0;34m\u001b[0m\n\u001b[1;32m      1\u001b[0m \u001b[0md\u001b[0m \u001b[0;34m=\u001b[0m \u001b[0mDucklingWrapper\u001b[0m\u001b[0;34m(\u001b[0m\u001b[0;34m)\u001b[0m\u001b[0;34m\u001b[0m\u001b[0;34m\u001b[0m\u001b[0m\n\u001b[0;32m----> 2\u001b[0;31m \u001b[0mprint\u001b[0m\u001b[0;34m(\u001b[0m\u001b[0md\u001b[0m\u001b[0;34m.\u001b[0m\u001b[0mparse_time\u001b[0m\u001b[0;34m(\u001b[0m\u001b[0;34mu'Let\\'s meet at 11:45am'\u001b[0m\u001b[0;34m)\u001b[0m\u001b[0;34m)\u001b[0m\u001b[0;34m\u001b[0m\u001b[0;34m\u001b[0m\u001b[0m\n\u001b[0m",
      "\u001b[0;32m/usr/local/lib/python3.8/dist-packages/duckling/wrapper.py\u001b[0m in \u001b[0;36mparse_time\u001b[0;34m(self, input_str, reference_time)\u001b[0m\n\u001b[1;32m    284\u001b[0m             ]\n\u001b[1;32m    285\u001b[0m         \"\"\"\n\u001b[0;32m--> 286\u001b[0;31m         return self._parse(input_str, dim=Dim.TIME,\n\u001b[0m\u001b[1;32m    287\u001b[0m                            reference_time=reference_time)\n\u001b[1;32m    288\u001b[0m \u001b[0;34m\u001b[0m\u001b[0m\n",
      "\u001b[0;32m/usr/local/lib/python3.8/dist-packages/duckling/wrapper.py\u001b[0m in \u001b[0;36m_parse\u001b[0;34m(self, input_str, dim, reference_time)\u001b[0m\n\u001b[1;32m     60\u001b[0m     \u001b[0;32mdef\u001b[0m \u001b[0m_parse\u001b[0m\u001b[0;34m(\u001b[0m\u001b[0mself\u001b[0m\u001b[0;34m,\u001b[0m \u001b[0minput_str\u001b[0m\u001b[0;34m,\u001b[0m \u001b[0mdim\u001b[0m\u001b[0;34m=\u001b[0m\u001b[0;32mNone\u001b[0m\u001b[0;34m,\u001b[0m \u001b[0mreference_time\u001b[0m\u001b[0;34m=\u001b[0m\u001b[0;34m''\u001b[0m\u001b[0;34m)\u001b[0m\u001b[0;34m:\u001b[0m\u001b[0;34m\u001b[0m\u001b[0;34m\u001b[0m\u001b[0m\n\u001b[1;32m     61\u001b[0m         \u001b[0mresult\u001b[0m \u001b[0;34m=\u001b[0m \u001b[0;34m[\u001b[0m\u001b[0;34m]\u001b[0m\u001b[0;34m\u001b[0m\u001b[0;34m\u001b[0m\u001b[0m\n\u001b[0;32m---> 62\u001b[0;31m         duckling_result = self.duckling.parse(\n\u001b[0m\u001b[1;32m     63\u001b[0m             \u001b[0minput_str\u001b[0m\u001b[0;34m,\u001b[0m \u001b[0mself\u001b[0m\u001b[0;34m.\u001b[0m\u001b[0mlanguage\u001b[0m\u001b[0;34m,\u001b[0m \u001b[0mdim_filter\u001b[0m\u001b[0;34m=\u001b[0m\u001b[0mdim\u001b[0m\u001b[0;34m,\u001b[0m\u001b[0;34m\u001b[0m\u001b[0;34m\u001b[0m\u001b[0m\n\u001b[1;32m     64\u001b[0m             reference_time=reference_time)\n",
      "\u001b[0;32m/usr/local/lib/python3.8/dist-packages/duckling/duckling.py\u001b[0m in \u001b[0;36mparse\u001b[0;34m(self, input_str, language, dim_filter, reference_time)\u001b[0m\n\u001b[1;32m    158\u001b[0m             duckling_result = duckling_parse.invoke(\n\u001b[1;32m    159\u001b[0m                 language, input_str, self.clojure.read(filter_str))\n\u001b[0;32m--> 160\u001b[0;31m         \u001b[0;32mreturn\u001b[0m \u001b[0mself\u001b[0m\u001b[0;34m.\u001b[0m\u001b[0m_parse_result\u001b[0m\u001b[0;34m(\u001b[0m\u001b[0mduckling_result\u001b[0m\u001b[0;34m)\u001b[0m\u001b[0;34m\u001b[0m\u001b[0;34m\u001b[0m\u001b[0m\n\u001b[0m\u001b[1;32m    161\u001b[0m \u001b[0;34m\u001b[0m\u001b[0m\n\u001b[1;32m    162\u001b[0m     \u001b[0;32mdef\u001b[0m \u001b[0m_parse_reference_time\u001b[0m\u001b[0;34m(\u001b[0m\u001b[0mself\u001b[0m\u001b[0;34m,\u001b[0m \u001b[0mreference_time\u001b[0m\u001b[0;34m)\u001b[0m\u001b[0;34m:\u001b[0m\u001b[0;34m\u001b[0m\u001b[0;34m\u001b[0m\u001b[0m\n",
      "\u001b[0;32m/usr/local/lib/python3.8/dist-packages/duckling/duckling.py\u001b[0m in \u001b[0;36m_parse_result\u001b[0;34m(self, duckling_result)\u001b[0m\n\u001b[1;32m    186\u001b[0m                         field.getValue(), entry[u'dim'])\n\u001b[1;32m    187\u001b[0m                 \u001b[0;32melse\u001b[0m\u001b[0;34m:\u001b[0m\u001b[0;34m\u001b[0m\u001b[0;34m\u001b[0m\u001b[0m\n\u001b[0;32m--> 188\u001b[0;31m                     \u001b[0mentry\u001b[0m\u001b[0;34m[\u001b[0m\u001b[0mkey\u001b[0m\u001b[0;34m]\u001b[0m \u001b[0;34m=\u001b[0m \u001b[0m_functions\u001b[0m\u001b[0;34m[\u001b[0m\u001b[0mkey\u001b[0m\u001b[0;34m]\u001b[0m\u001b[0;34m(\u001b[0m\u001b[0mfield\u001b[0m\u001b[0;34m.\u001b[0m\u001b[0mgetValue\u001b[0m\u001b[0;34m(\u001b[0m\u001b[0;34m)\u001b[0m\u001b[0;34m)\u001b[0m\u001b[0;34m\u001b[0m\u001b[0;34m\u001b[0m\u001b[0m\n\u001b[0m\u001b[1;32m    189\u001b[0m             \u001b[0mresult\u001b[0m\u001b[0;34m.\u001b[0m\u001b[0mappend\u001b[0m\u001b[0;34m(\u001b[0m\u001b[0mentry\u001b[0m\u001b[0;34m)\u001b[0m\u001b[0;34m\u001b[0m\u001b[0;34m\u001b[0m\u001b[0m\n\u001b[1;32m    190\u001b[0m         \u001b[0;32mreturn\u001b[0m \u001b[0mresult\u001b[0m\u001b[0;34m\u001b[0m\u001b[0;34m\u001b[0m\u001b[0m\n",
      "\u001b[0;32m/usr/local/lib/python3.8/dist-packages/duckling/duckling.py\u001b[0m in \u001b[0;36m_parse_int\u001b[0;34m(self, java_number)\u001b[0m\n\u001b[1;32m    233\u001b[0m \u001b[0;34m\u001b[0m\u001b[0m\n\u001b[1;32m    234\u001b[0m     \u001b[0;32mdef\u001b[0m \u001b[0m_parse_int\u001b[0m\u001b[0;34m(\u001b[0m\u001b[0mself\u001b[0m\u001b[0;34m,\u001b[0m \u001b[0mjava_number\u001b[0m\u001b[0;34m)\u001b[0m\u001b[0;34m:\u001b[0m\u001b[0;34m\u001b[0m\u001b[0;34m\u001b[0m\u001b[0m\n\u001b[0;32m--> 235\u001b[0;31m         \u001b[0;32mreturn\u001b[0m \u001b[0mint\u001b[0m\u001b[0;34m(\u001b[0m\u001b[0mjava_number\u001b[0m\u001b[0;34m.\u001b[0m\u001b[0mtoString\u001b[0m\u001b[0;34m(\u001b[0m\u001b[0;34m)\u001b[0m\u001b[0;34m)\u001b[0m\u001b[0;34m\u001b[0m\u001b[0;34m\u001b[0m\u001b[0m\n\u001b[0m\u001b[1;32m    236\u001b[0m \u001b[0;34m\u001b[0m\u001b[0m\n\u001b[1;32m    237\u001b[0m     \u001b[0;32mdef\u001b[0m \u001b[0m_parse_value\u001b[0m\u001b[0;34m(\u001b[0m\u001b[0mself\u001b[0m\u001b[0;34m,\u001b[0m \u001b[0mjava_value\u001b[0m\u001b[0;34m,\u001b[0m \u001b[0mdim\u001b[0m\u001b[0;34m=\u001b[0m\u001b[0;32mNone\u001b[0m\u001b[0;34m)\u001b[0m\u001b[0;34m:\u001b[0m\u001b[0;34m\u001b[0m\u001b[0;34m\u001b[0m\u001b[0m\n",
      "\u001b[0;31mTypeError\u001b[0m: int() argument must be a string, a bytes-like object or a number, not 'java.lang.String'"
     ]
    }
   ],
   "source": [
    "d = DucklingWrapper()\n",
    "print(d.parse_time(u'Let\\'s meet at 11:45am'))"
   ]
  },
  {
   "cell_type": "markdown",
   "metadata": {
    "colab_type": "text",
    "id": "M8ZX3J0vz5ro"
   },
   "source": [
    "Extracting time from text\n"
   ]
  },
  {
   "cell_type": "code",
   "execution_count": 5,
   "metadata": {
    "colab": {
     "base_uri": "https://localhost:8080/",
     "height": 454
    },
    "colab_type": "code",
    "id": "anWMHSQAbHi-",
    "outputId": "2c9cec94-3999-4a00-ff97-519196c167e4"
   },
   "outputs": [
    {
     "output_type": "error",
     "ename": "TypeError",
     "evalue": "int() argument must be a string, a bytes-like object or a number, not 'java.lang.String'",
     "traceback": [
      "\u001b[0;31m---------------------------------------------------------------------------\u001b[0m",
      "\u001b[0;31mTypeError\u001b[0m                                 Traceback (most recent call last)",
      "\u001b[0;32m<ipython-input-5-f3938f7e9531>\u001b[0m in \u001b[0;36m<module>\u001b[0;34m\u001b[0m\n\u001b[0;32m----> 1\u001b[0;31m \u001b[0mpprint\u001b[0m\u001b[0;34m(\u001b[0m\u001b[0md\u001b[0m\u001b[0;34m.\u001b[0m\u001b[0mparse_time\u001b[0m\u001b[0;34m(\u001b[0m\u001b[0;34mu'Let\\'s meet at 11:45am'\u001b[0m\u001b[0;34m)\u001b[0m\u001b[0;34m)\u001b[0m\u001b[0;34m\u001b[0m\u001b[0;34m\u001b[0m\u001b[0m\n\u001b[0m\u001b[1;32m      2\u001b[0m \u001b[0mpprint\u001b[0m\u001b[0;34m(\u001b[0m\u001b[0md\u001b[0m\u001b[0;34m.\u001b[0m\u001b[0mparse_time\u001b[0m\u001b[0;34m(\u001b[0m\u001b[0;34mu'You owe me twenty bucks, please call me today'\u001b[0m\u001b[0;34m)\u001b[0m\u001b[0;34m)\u001b[0m\u001b[0;34m\u001b[0m\u001b[0;34m\u001b[0m\u001b[0m\n",
      "\u001b[0;32m/usr/local/lib/python3.8/dist-packages/duckling/wrapper.py\u001b[0m in \u001b[0;36mparse_time\u001b[0;34m(self, input_str, reference_time)\u001b[0m\n\u001b[1;32m    284\u001b[0m             ]\n\u001b[1;32m    285\u001b[0m         \"\"\"\n\u001b[0;32m--> 286\u001b[0;31m         return self._parse(input_str, dim=Dim.TIME,\n\u001b[0m\u001b[1;32m    287\u001b[0m                            reference_time=reference_time)\n\u001b[1;32m    288\u001b[0m \u001b[0;34m\u001b[0m\u001b[0m\n",
      "\u001b[0;32m/usr/local/lib/python3.8/dist-packages/duckling/wrapper.py\u001b[0m in \u001b[0;36m_parse\u001b[0;34m(self, input_str, dim, reference_time)\u001b[0m\n\u001b[1;32m     60\u001b[0m     \u001b[0;32mdef\u001b[0m \u001b[0m_parse\u001b[0m\u001b[0;34m(\u001b[0m\u001b[0mself\u001b[0m\u001b[0;34m,\u001b[0m \u001b[0minput_str\u001b[0m\u001b[0;34m,\u001b[0m \u001b[0mdim\u001b[0m\u001b[0;34m=\u001b[0m\u001b[0;32mNone\u001b[0m\u001b[0;34m,\u001b[0m \u001b[0mreference_time\u001b[0m\u001b[0;34m=\u001b[0m\u001b[0;34m''\u001b[0m\u001b[0;34m)\u001b[0m\u001b[0;34m:\u001b[0m\u001b[0;34m\u001b[0m\u001b[0;34m\u001b[0m\u001b[0m\n\u001b[1;32m     61\u001b[0m         \u001b[0mresult\u001b[0m \u001b[0;34m=\u001b[0m \u001b[0;34m[\u001b[0m\u001b[0;34m]\u001b[0m\u001b[0;34m\u001b[0m\u001b[0;34m\u001b[0m\u001b[0m\n\u001b[0;32m---> 62\u001b[0;31m         duckling_result = self.duckling.parse(\n\u001b[0m\u001b[1;32m     63\u001b[0m             \u001b[0minput_str\u001b[0m\u001b[0;34m,\u001b[0m \u001b[0mself\u001b[0m\u001b[0;34m.\u001b[0m\u001b[0mlanguage\u001b[0m\u001b[0;34m,\u001b[0m \u001b[0mdim_filter\u001b[0m\u001b[0;34m=\u001b[0m\u001b[0mdim\u001b[0m\u001b[0;34m,\u001b[0m\u001b[0;34m\u001b[0m\u001b[0;34m\u001b[0m\u001b[0m\n\u001b[1;32m     64\u001b[0m             reference_time=reference_time)\n",
      "\u001b[0;32m/usr/local/lib/python3.8/dist-packages/duckling/duckling.py\u001b[0m in \u001b[0;36mparse\u001b[0;34m(self, input_str, language, dim_filter, reference_time)\u001b[0m\n\u001b[1;32m    158\u001b[0m             duckling_result = duckling_parse.invoke(\n\u001b[1;32m    159\u001b[0m                 language, input_str, self.clojure.read(filter_str))\n\u001b[0;32m--> 160\u001b[0;31m         \u001b[0;32mreturn\u001b[0m \u001b[0mself\u001b[0m\u001b[0;34m.\u001b[0m\u001b[0m_parse_result\u001b[0m\u001b[0;34m(\u001b[0m\u001b[0mduckling_result\u001b[0m\u001b[0;34m)\u001b[0m\u001b[0;34m\u001b[0m\u001b[0;34m\u001b[0m\u001b[0m\n\u001b[0m\u001b[1;32m    161\u001b[0m \u001b[0;34m\u001b[0m\u001b[0m\n\u001b[1;32m    162\u001b[0m     \u001b[0;32mdef\u001b[0m \u001b[0m_parse_reference_time\u001b[0m\u001b[0;34m(\u001b[0m\u001b[0mself\u001b[0m\u001b[0;34m,\u001b[0m \u001b[0mreference_time\u001b[0m\u001b[0;34m)\u001b[0m\u001b[0;34m:\u001b[0m\u001b[0;34m\u001b[0m\u001b[0;34m\u001b[0m\u001b[0m\n",
      "\u001b[0;32m/usr/local/lib/python3.8/dist-packages/duckling/duckling.py\u001b[0m in \u001b[0;36m_parse_result\u001b[0;34m(self, duckling_result)\u001b[0m\n\u001b[1;32m    186\u001b[0m                         field.getValue(), entry[u'dim'])\n\u001b[1;32m    187\u001b[0m                 \u001b[0;32melse\u001b[0m\u001b[0;34m:\u001b[0m\u001b[0;34m\u001b[0m\u001b[0;34m\u001b[0m\u001b[0m\n\u001b[0;32m--> 188\u001b[0;31m                     \u001b[0mentry\u001b[0m\u001b[0;34m[\u001b[0m\u001b[0mkey\u001b[0m\u001b[0;34m]\u001b[0m \u001b[0;34m=\u001b[0m \u001b[0m_functions\u001b[0m\u001b[0;34m[\u001b[0m\u001b[0mkey\u001b[0m\u001b[0;34m]\u001b[0m\u001b[0;34m(\u001b[0m\u001b[0mfield\u001b[0m\u001b[0;34m.\u001b[0m\u001b[0mgetValue\u001b[0m\u001b[0;34m(\u001b[0m\u001b[0;34m)\u001b[0m\u001b[0;34m)\u001b[0m\u001b[0;34m\u001b[0m\u001b[0;34m\u001b[0m\u001b[0m\n\u001b[0m\u001b[1;32m    189\u001b[0m             \u001b[0mresult\u001b[0m\u001b[0;34m.\u001b[0m\u001b[0mappend\u001b[0m\u001b[0;34m(\u001b[0m\u001b[0mentry\u001b[0m\u001b[0;34m)\u001b[0m\u001b[0;34m\u001b[0m\u001b[0;34m\u001b[0m\u001b[0m\n\u001b[1;32m    190\u001b[0m         \u001b[0;32mreturn\u001b[0m \u001b[0mresult\u001b[0m\u001b[0;34m\u001b[0m\u001b[0;34m\u001b[0m\u001b[0m\n",
      "\u001b[0;32m/usr/local/lib/python3.8/dist-packages/duckling/duckling.py\u001b[0m in \u001b[0;36m_parse_int\u001b[0;34m(self, java_number)\u001b[0m\n\u001b[1;32m    233\u001b[0m \u001b[0;34m\u001b[0m\u001b[0m\n\u001b[1;32m    234\u001b[0m     \u001b[0;32mdef\u001b[0m \u001b[0m_parse_int\u001b[0m\u001b[0;34m(\u001b[0m\u001b[0mself\u001b[0m\u001b[0;34m,\u001b[0m \u001b[0mjava_number\u001b[0m\u001b[0;34m)\u001b[0m\u001b[0;34m:\u001b[0m\u001b[0;34m\u001b[0m\u001b[0;34m\u001b[0m\u001b[0m\n\u001b[0;32m--> 235\u001b[0;31m         \u001b[0;32mreturn\u001b[0m \u001b[0mint\u001b[0m\u001b[0;34m(\u001b[0m\u001b[0mjava_number\u001b[0m\u001b[0;34m.\u001b[0m\u001b[0mtoString\u001b[0m\u001b[0;34m(\u001b[0m\u001b[0;34m)\u001b[0m\u001b[0;34m)\u001b[0m\u001b[0;34m\u001b[0m\u001b[0;34m\u001b[0m\u001b[0m\n\u001b[0m\u001b[1;32m    236\u001b[0m \u001b[0;34m\u001b[0m\u001b[0m\n\u001b[1;32m    237\u001b[0m     \u001b[0;32mdef\u001b[0m \u001b[0m_parse_value\u001b[0m\u001b[0;34m(\u001b[0m\u001b[0mself\u001b[0m\u001b[0;34m,\u001b[0m \u001b[0mjava_value\u001b[0m\u001b[0;34m,\u001b[0m \u001b[0mdim\u001b[0m\u001b[0;34m=\u001b[0m\u001b[0;32mNone\u001b[0m\u001b[0;34m)\u001b[0m\u001b[0;34m:\u001b[0m\u001b[0;34m\u001b[0m\u001b[0;34m\u001b[0m\u001b[0m\n",
      "\u001b[0;31mTypeError\u001b[0m: int() argument must be a string, a bytes-like object or a number, not 'java.lang.String'"
     ]
    }
   ],
   "source": [
    "pprint(d.parse_time(u'Let\\'s meet at 11:45am'))\n",
    "pprint(d.parse_time(u'You owe me twenty bucks, please call me today'))"
   ]
  },
  {
   "cell_type": "markdown",
   "metadata": {
    "colab_type": "text",
    "id": "mTiNsnoG0BaK"
   },
   "source": [
    "Extracting temperature from text"
   ]
  },
  {
   "cell_type": "code",
   "execution_count": 5,
   "metadata": {
    "colab": {
     "base_uri": "https://localhost:8080/",
     "height": 381
    },
    "colab_type": "code",
    "id": "_ab9_gzGbab2",
    "outputId": "c73db449-9527-46b3-f80b-f43887f54bdf"
   },
   "outputs": [
    {
     "name": "stdout",
     "output_type": "stream",
     "text": [
      "[{'dim': 'temperature',\n",
      "  'end': 65,\n",
      "  'start': 55,\n",
      "  'text': '65 degrees',\n",
      "  'value': {'unit': 'degree', 'value': 65.0}},\n",
      " {'dim': 'temperature',\n",
      "  'end': 51,\n",
      "  'start': 33,\n",
      "  'text': 'thirty two celsius',\n",
      "  'value': {'unit': 'celsius', 'value': 32.0}}]\n",
      "[{'dim': 'temperature',\n",
      "  'end': 97,\n",
      "  'start': 87,\n",
      "  'text': '37 degrees',\n",
      "  'value': {'unit': 'degree', 'value': 37.0}},\n",
      " {'dim': 'temperature',\n",
      "  'end': 76,\n",
      "  'start': 49,\n",
      "  'text': 'thirty-five degrees celcius',\n",
      "  'value': {'unit': 'celsius', 'value': 35.0}}]\n"
     ]
    }
   ],
   "source": [
    "pprint(d.parse_temperature(u'Let\\'s change the temperatur from thirty two celsius to 65 degrees'))\n",
    "pprint(d.parse_temperature(u\"It's getting hotter day by day, yesterday it was thirty-five degrees celcius today its 37 degrees \"))"
   ]
  },
  {
   "cell_type": "markdown",
   "metadata": {
    "colab_type": "text",
    "id": "MIhGr8sD0EaK"
   },
   "source": [
    "Extracting timezone from text"
   ]
  },
  {
   "cell_type": "code",
   "execution_count": 6,
   "metadata": {
    "colab": {
     "base_uri": "https://localhost:8080/",
     "height": 199
    },
    "colab_type": "code",
    "id": "n80DX6jLbncT",
    "outputId": "bc33984a-e691-4527-aabd-9728ce934c82"
   },
   "outputs": [
    {
     "name": "stdout",
     "output_type": "stream",
     "text": [
      "[{'dim': 'timezone',\n",
      "  'end': 22,\n",
      "  'start': 19,\n",
      "  'text': 'IST',\n",
      "  'value': {'value': 'IST'}}]\n",
      "[{'dim': 'timezone',\n",
      "  'end': 23,\n",
      "  'start': 20,\n",
      "  'text': 'EST',\n",
      "  'value': {'value': 'EST'}}]\n"
     ]
    }
   ],
   "source": [
    "pprint(d.parse_timezone(u\"Let's meet at 10pm IST\"))\n",
    "pprint(d.parse_timezone(u\"Let's meet at 22:00 EST\"))"
   ]
  },
  {
   "cell_type": "markdown",
   "metadata": {
    "colab_type": "text",
    "id": "namYN2uV03r-"
   },
   "source": [
    "Extracting number from text"
   ]
  },
  {
   "cell_type": "code",
   "execution_count": 7,
   "metadata": {
    "colab": {
     "base_uri": "https://localhost:8080/",
     "height": 108
    },
    "colab_type": "code",
    "id": "TPUGDEUocLou",
    "outputId": "02803174-7854-4036-ee90-3fbe68ec334f"
   },
   "outputs": [
    {
     "data": {
      "text/plain": [
       "[{'dim': 'number',\n",
       "  'text': '20',\n",
       "  'start': 11,\n",
       "  'end': 13,\n",
       "  'value': {'value': 20.0}}]"
      ]
     },
     "execution_count": 7,
     "metadata": {},
     "output_type": "execute_result"
    }
   ],
   "source": [
    "d.parse_number(u\"Hey i am a 20 year old student from Alaska\")"
   ]
  },
  {
   "cell_type": "markdown",
   "metadata": {
    "colab_type": "text",
    "id": "O-5RYo3j07Rc"
   },
   "source": [
    "Extracting ordinals from text"
   ]
  },
  {
   "cell_type": "code",
   "execution_count": 8,
   "metadata": {
    "colab": {
     "base_uri": "https://localhost:8080/",
     "height": 199
    },
    "colab_type": "code",
    "id": "N-lovNRKcUPA",
    "outputId": "41ebd328-9a7e-4aeb-e613-94d52bfd4d72"
   },
   "outputs": [
    {
     "data": {
      "text/plain": [
       "[{'dim': 'ordinal',\n",
       "  'text': '2nd',\n",
       "  'start': 7,\n",
       "  'end': 10,\n",
       "  'value': {'value': 2}},\n",
       " {'dim': 'ordinal',\n",
       "  'text': '1st',\n",
       "  'start': 22,\n",
       "  'end': 25,\n",
       "  'value': {'value': 1}}]"
      ]
     },
     "execution_count": 8,
     "metadata": {},
     "output_type": "execute_result"
    }
   ],
   "source": [
    "d.parse_ordinal(u\"I came 2nd and u came 1st in a race\")"
   ]
  },
  {
   "cell_type": "markdown",
   "metadata": {
    "colab_type": "text",
    "id": "dyNu2zVG0_lN"
   },
   "source": [
    "Extracting currency and value from text"
   ]
  },
  {
   "cell_type": "code",
   "execution_count": 9,
   "metadata": {
    "colab": {
     "base_uri": "https://localhost:8080/",
     "height": 108
    },
    "colab_type": "code",
    "id": "RvEkCiBxcta4",
    "outputId": "79adfbbf-9690-4bf5-c899-25915f1b0f57"
   },
   "outputs": [
    {
     "data": {
      "text/plain": [
       "[{'dim': 'amount-of-money',\n",
       "  'text': '3$',\n",
       "  'start': 16,\n",
       "  'end': 18,\n",
       "  'value': {'value': 3.0, 'unit': '$'}}]"
      ]
     },
     "execution_count": 9,
     "metadata": {},
     "output_type": "execute_result"
    }
   ],
   "source": [
    "d.parse_money(u\"This meal costs 3$\")"
   ]
  },
  {
   "cell_type": "markdown",
   "metadata": {
    "colab_type": "text",
    "id": "TtzDTHoy1GG2"
   },
   "source": [
    "Extracting email ids from text"
   ]
  },
  {
   "cell_type": "code",
   "execution_count": 10,
   "metadata": {
    "colab": {
     "base_uri": "https://localhost:8080/",
     "height": 108
    },
    "colab_type": "code",
    "id": "HJG0t9Iyc1rI",
    "outputId": "61465e7f-a4c8-4890-f70a-a8cc1c149763"
   },
   "outputs": [
    {
     "data": {
      "text/plain": [
       "[{'dim': 'email',\n",
       "  'text': 'abcxyz@gmail.com',\n",
       "  'start': 12,\n",
       "  'end': 28,\n",
       "  'value': {'value': 'abcxyz@gmail.com'}}]"
      ]
     },
     "execution_count": 10,
     "metadata": {},
     "output_type": "execute_result"
    }
   ],
   "source": [
    "d.parse_email(u\"my email is abcxyz@gmail.com\")"
   ]
  },
  {
   "cell_type": "markdown",
   "metadata": {
    "colab_type": "text",
    "id": "ixVmrKBw1NPx"
   },
   "source": [
    "Extracting the durations in a text"
   ]
  },
  {
   "cell_type": "code",
   "execution_count": 11,
   "metadata": {
    "colab": {
     "base_uri": "https://localhost:8080/",
     "height": 454
    },
    "colab_type": "code",
    "id": "DxmmN78bdHqK",
    "outputId": "0f226807-215a-4a55-ad7e-2cd680bb4184"
   },
   "outputs": [
    {
     "data": {
      "text/plain": [
       "[{'dim': 'duration',\n",
       "  'text': '4 hrs',\n",
       "  'start': 40,\n",
       "  'end': 45,\n",
       "  'value': {'value': 4.0,\n",
       "   'unit': 'hour',\n",
       "   'year': None,\n",
       "   'month': None,\n",
       "   'day': None,\n",
       "   'hour': 4,\n",
       "   'minute': None,\n",
       "   'second': None}},\n",
       " {'dim': 'duration',\n",
       "  'text': '2 years',\n",
       "  'start': 69,\n",
       "  'end': 76,\n",
       "  'value': {'value': 2.0,\n",
       "   'unit': 'year',\n",
       "   'year': 2,\n",
       "   'month': None,\n",
       "   'day': None,\n",
       "   'hour': None,\n",
       "   'minute': None,\n",
       "   'second': None}}]"
      ]
     },
     "execution_count": 11,
     "metadata": {},
     "output_type": "execute_result"
    }
   ],
   "source": [
    "d.parse_duration(u\"I have been working on this project for 4 hrs every month for almost 2 years.\")"
   ]
  },
  {
   "cell_type": "markdown",
   "metadata": {
    "colab_type": "text",
    "id": "ktDtLHCY1y_f"
   },
   "source": [
    "Extracting urls from text"
   ]
  },
  {
   "cell_type": "code",
   "execution_count": 12,
   "metadata": {
    "colab": {
     "base_uri": "https://localhost:8080/",
     "height": 199
    },
    "colab_type": "code",
    "id": "HEBKT4BT11sb",
    "outputId": "88e74b0d-5c58-4be8-972f-205deaede893"
   },
   "outputs": [
    {
     "data": {
      "text/plain": [
       "[{'dim': 'url',\n",
       "  'text': 'http://www.practicalnlp.ai/',\n",
       "  'start': 51,\n",
       "  'end': 78,\n",
       "  'value': {'value': 'http://www.practicalnlp.ai/'}},\n",
       " {'dim': 'url',\n",
       "  'text': 'http://www.practicalnlp.ai/',\n",
       "  'start': 51,\n",
       "  'end': 78,\n",
       "  'value': {'value': 'http://www.practicalnlp.ai/'}}]"
      ]
     },
     "execution_count": 12,
     "metadata": {},
     "output_type": "execute_result"
    }
   ],
   "source": [
    "d.parse_url(u\"The official website for the book Practical NLP is http://www.practicalnlp.ai/\")"
   ]
  },
  {
   "cell_type": "markdown",
   "metadata": {
    "colab_type": "text",
    "id": "k0Ox-vvV2K7I"
   },
   "source": [
    "Extracting phone numbers from text"
   ]
  },
  {
   "cell_type": "code",
   "execution_count": 13,
   "metadata": {
    "colab": {
     "base_uri": "https://localhost:8080/",
     "height": 35
    },
    "colab_type": "code",
    "id": "gSRr-ae52Ryd",
    "outputId": "fa229777-ad1f-4f0f-93f4-86e299221a00"
   },
   "outputs": [
    {
     "data": {
      "text/plain": [
       "[]"
      ]
     },
     "execution_count": 13,
     "metadata": {},
     "output_type": "execute_result"
    }
   ],
   "source": [
    "d.parse_phone_number(u\"Enter text here\")#didnt demo this due to privacy reasons"
   ]
  },
  {
   "cell_type": "markdown",
   "metadata": {
    "colab_type": "text",
    "id": "xCOEyk_u1Rq-"
   },
   "source": [
    "Generally, a good idea would be to make a pipeline of all of these functions or which ever you require according to your use case."
   ]
  },
  {
   "cell_type": "code",
   "execution_count": null,
   "metadata": {
    "colab": {},
    "colab_type": "code",
    "id": "K_AV5damdQMK"
   },
   "outputs": [],
   "source": []
  },
  {
   "cell_type": "code",
   "execution_count": null,
   "metadata": {},
   "outputs": [],
   "source": []
  }
 ],
 "metadata": {
  "colab": {
   "name": "Duckling.ipynb",
   "provenance": []
  },
  "kernelspec": {
   "name": "python3",
   "display_name": "Python 3.8.5 64-bit",
   "metadata": {
    "interpreter": {
     "hash": "df0893f56f349688326838aaeea0de204df53a132722cbd565e54b24a8fec5f6"
    }
   }
  },
  "language_info": {
   "codemirror_mode": {
    "name": "ipython",
    "version": 3
   },
   "file_extension": ".py",
   "mimetype": "text/x-python",
   "name": "python",
   "nbconvert_exporter": "python",
   "pygments_lexer": "ipython3",
   "version": "3.8.5"
  }
 },
 "nbformat": 4,
 "nbformat_minor": 1
}