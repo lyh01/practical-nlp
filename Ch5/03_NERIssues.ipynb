{
 "cells": [
  {
   "cell_type": "markdown",
   "metadata": {
    "colab_type": "text",
    "id": "wgIxTF2qeFXF"
   },
   "source": [
    "This notebook illustrates some of the issues with existing NER model in spacy and its sensitivity to text structure."
   ]
  },
  {
   "cell_type": "code",
   "execution_count": 1,
   "metadata": {},
   "outputs": [
    {
     "output_type": "stream",
     "name": "stdout",
     "text": [
      "Hostname: 479ea4b9fba5, IP: 172.17.0.2\n\nNetwork interfaces: ['lo', 'sit0', 'eth0']\n[{17: [{'addr': '00:00:00:00:00:00', 'peer': '00:00:00:00:00:00'}], 2: [{'addr': '127.0.0.1', 'netmask': '255.0.0.0', 'peer': '127.0.0.1'}]}, {17: [{'addr': '00:00:00:00', 'broadcast': '00:00:00:00'}]}, {17: [{'addr': '02:42:ac:11:00:02', 'broadcast': 'ff:ff:ff:ff:ff:ff'}], 2: [{'addr': '172.17.0.2', 'netmask': '255.255.0.0', 'broadcast': '172.17.255.255'}]}]\n\nCurrent user: root, uid: 0, shell: /bin/bash \n\nCurrent directory: /home/hlaz001/practicalnlp/Ch5\n\nList current diretory:  ['06_EntityLinking-AzureTextAnalytics.ipynb', '02_NERTraining.ipynb', 'README.md', '04_NER_using_spaCy - CoNLL.ipynb', '05_BERT_CONLL_NER.ipynb', 'model', '08_Duckling.ipynb', '07_REWatson.ipynb', 'Data', '01_KPE.ipynb', '03_NERIssues.ipynb', 'spacyNER_data']\n\nPython vesion:  3.8.5 (default, Jul 28 2020, 12:59:40)  [GCC 9.3.0] \n\nPython path:  ['/home/hlaz001/practicalnlp/Ch5', '/root/.vscode-server/extensions/ms-toolsai.jupyter-2021.3.684299474/pythonFiles', '/root/.vscode-server/extensions/ms-toolsai.jupyter-2021.3.684299474/pythonFiles/lib/python', '/usr/lib/python38.zip', '/usr/lib/python3.8', '/usr/lib/python3.8/lib-dynload', '', '/root/.local/lib/python3.8/site-packages', '/usr/local/lib/python3.8/dist-packages', '/usr/lib/python3/dist-packages', '/root/.local/lib/python3.8/site-packages/IPython/extensions', '/root/.ipython'] \n\n"
     ]
    }
   ],
   "source": [
    "import os, pwd, sys, netifaces, socket\n",
    "\n",
    "print(f\"Hostname: {socket.gethostname()}, IP: {socket.gethostbyname(socket.gethostname())}\")\n",
    "print(f\"\\nNetwork interfaces: {netifaces.interfaces()}\")\n",
    "print([netifaces.ifaddresses(i) for i in netifaces.interfaces()])\n",
    "print(f\"\\nCurrent user: {pwd.getpwuid(os.geteuid()).pw_name}, uid: {pwd.getpwuid(os.geteuid()).pw_uid}, shell: {pwd.getpwuid(os.geteuid()).pw_shell} \")\n",
    "print(f\"\\nCurrent directory: {os.getcwd()}\")\n",
    "print(\"\\nList current diretory: \",[i for i in os.listdir()])\n",
    "print(\"\\nPython vesion: \",sys.version.replace(\"\\n\",\" \"), \"\\n\\nPython path: \",sys.path,\"\\n\")"
   ]
  },
  {
   "cell_type": "code",
   "execution_count": 2,
   "metadata": {},
   "outputs": [],
   "source": [
    "# first run python3.8 -m pip install https://github.com/explosion/spacy-models/releases/download/en_core_web_lg-2.3.1/en_core_web_lg-2.3.1.tar.gz\n",
    "import en_core_web_lg\n",
    "nlp = en_core_web_lg.load()"
   ]
  },
  {
   "cell_type": "code",
   "execution_count": 3,
   "metadata": {
    "colab": {},
    "colab_type": "code",
    "id": "S-RUTmkacmyy",
    "outputId": "33a15076-1a64-476f-f265-5e0d90c3314f"
   },
   "outputs": [
    {
     "output_type": "stream",
     "name": "stdout",
     "text": [
      "SAN FRANCISCO \t GPE\nApple \t ORG\nlast year \t DATE\n$252 billion \t MONEY\n$100 billion \t MONEY\nTuesday \t DATE\nApple \t ORG\n$75 billion \t MONEY\nfirst \t ORDINAL\nLuca Maestri \t PERSON\nApple \t ORG\nApple \t ORG\n"
     ]
    }
   ],
   "source": [
    "#Problems of NER illustration through Spacy.\n",
    "#!python3.8 -m spacy download en_core_web_lg\n",
    "\n",
    "import spacy\n",
    "#nlp = spacy.load(\"en_core_web_lg\")\n",
    "nlp = en_core_web_lg.load()\n",
    "mytext = \"\"\"SAN FRANCISCO — Shortly after Apple used a new tax law last year to bring back most of the $252 billion it had held abroad, the company said it would buy back $100 billion of its stock.\n",
    "\n",
    "On Tuesday, Apple announced its plans for another major chunk of the money: It will buy back a further $75 billion in stock.\n",
    "\n",
    "“Our first priority is always looking after the business and making sure we continue to grow and invest,” Luca Maestri, Apple’s finance chief, said in an interview. “If there is excess cash, then obviously we want to return it to investors.”\n",
    "\n",
    "Apple’s record buybacks should be welcome news to shareholders, as the stock price is likely to climb. But the buybacks could also expose the company to more criticism that the tax cuts it received have mostly benefited investors and executives.\n",
    "\"\"\"\n",
    "doc = nlp(mytext)\n",
    "for ent in doc.ents:\n",
    "    print(ent.text, \"\\t\", ent.label_)"
   ]
  },
  {
   "cell_type": "code",
   "execution_count": 4,
   "metadata": {
    "colab": {},
    "colab_type": "code",
    "id": "Y26qfij2cmzS",
    "outputId": "1c773897-db05-4435-8910-aab5cda83e00"
   },
   "outputs": [
    {
     "output_type": "stream",
     "name": "stdout",
     "text": [
      "SAN FRANCISCO — Shortly after Apple used a new tax law last year to bring back most of the $252 billion it had held abroad, the company said it would buy back $100 billion of its stock.\n\n\n***End of sent****\nOn Tuesday, Apple announced its plans for another major chunk of the money: It will buy back a further $75 billion in stock.\n\n\n***End of sent****\n“Our first priority is always looking after the business and making sure we continue to grow and invest,” Luca Maestri, Apple’s finance chief, said in an interview.\n***End of sent****\n“If there is excess cash, then obviously we want to return it to investors.”\n\n\n***End of sent****\nApple’s record buybacks should be welcome news to shareholders, as the stock price is likely to climb.\n***End of sent****\nBut the buybacks could also expose the company to more criticism that the tax cuts it received have mostly benefited investors and executives.\n\n***End of sent****\nTotal sentences:  6\n"
     ]
    }
   ],
   "source": [
    "count=0 #We see 6 sentences as humans in this text. How many does Spacy see? \n",
    "for sent in doc.sents:\n",
    "    print(sent.text)\n",
    "    print(\"***End of sent****\")\n",
    "    count = count+1\n",
    "print(\"Total sentences: \", count)"
   ]
  },
  {
   "cell_type": "code",
   "execution_count": 0,
   "metadata": {
    "colab": {},
    "colab_type": "code",
    "id": "_SuaVwXfcmzZ"
   },
   "outputs": [],
   "source": []
  }
 ],
 "metadata": {
  "colab": {
   "name": "NERIssues.ipynb",
   "provenance": []
  },
  "kernelspec": {
   "name": "python3",
   "display_name": "Python 3",
   "language": "python"
  },
  "language_info": {
   "codemirror_mode": {
    "name": "ipython",
    "version": 2
   },
   "file_extension": ".py",
   "mimetype": "text/x-python",
   "name": "python",
   "nbconvert_exporter": "python",
   "pygments_lexer": "ipython2",
   "version": "3.8.5-final"
  }
 },
 "nbformat": 4,
 "nbformat_minor": 1
}